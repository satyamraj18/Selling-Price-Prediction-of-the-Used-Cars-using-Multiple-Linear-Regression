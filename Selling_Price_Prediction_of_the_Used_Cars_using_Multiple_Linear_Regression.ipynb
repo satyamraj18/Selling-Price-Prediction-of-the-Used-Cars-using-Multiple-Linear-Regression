{
  "nbformat": 4,
  "nbformat_minor": 0,
  "metadata": {
    "colab": {
      "name": "Selling Price Prediction of the Used Cars using Multiple Linear Regression",
      "provenance": [],
      "collapsed_sections": [],
      "toc_visible": true,
      "include_colab_link": true
    },
    "kernelspec": {
      "name": "python3",
      "display_name": "Python 3"
    }
  },
  "cells": [
    {
      "cell_type": "markdown",
      "metadata": {
        "id": "view-in-github",
        "colab_type": "text"
      },
      "source": [
        "<a href=\"https://colab.research.google.com/github/satyamraj18/Selling-Price-Prediction-of-the-Used-Cars-using-Multiple-Linear-Regression/blob/main/Selling_Price_Prediction_of_the_Used_Cars_using_Multiple_Linear_Regression.ipynb\" target=\"_parent\"><img src=\"https://colab.research.google.com/assets/colab-badge.svg\" alt=\"Open In Colab\"/></a>"
      ]
    },
    {
      "cell_type": "markdown",
      "metadata": {
        "id": "CWVS9QPSOPX4"
      },
      "source": [
        "## Importing Packages"
      ]
    },
    {
      "cell_type": "code",
      "metadata": {
        "id": "ok4UBeqIOUi3"
      },
      "source": [
        "import pandas as pd\n",
        "import numpy as np\n",
        "import matplotlib.pyplot as plt"
      ],
      "execution_count": null,
      "outputs": []
    },
    {
      "cell_type": "markdown",
      "metadata": {
        "id": "4QT40sgpOjWp"
      },
      "source": [
        "## Importing Dataset"
      ]
    },
    {
      "cell_type": "code",
      "metadata": {
        "id": "2krPVX7lOqaH"
      },
      "source": [
        "dataset = pd.read_csv(\"car_data_corrected.csv\")\n",
        "X = dataset.iloc[:, 1:-1].values\n",
        "y = dataset.iloc[:, -1].values"
      ],
      "execution_count": null,
      "outputs": []
    },
    {
      "cell_type": "code",
      "metadata": {
        "id": "C4kjsq0clWzR",
        "colab": {
          "base_uri": "https://localhost:8080/",
          "height": 136
        },
        "outputId": "2de83da8-5e43-42a5-828f-60c287b8499c"
      },
      "source": [
        "print(X)"
      ],
      "execution_count": null,
      "outputs": [
        {
          "output_type": "stream",
          "text": [
            "[[2008 0.75 60000 'Petrol' 'Individual' 'Manual']\n",
            " [2017 0.95 1300 'Petrol' 'Individual' 'Manual']\n",
            " [2013 9.54 43000 'Petrol' 'Dealer' 'Manual']\n",
            " ...\n",
            " [2015 8.12 18796 'Petrol' 'Dealer' 'Manual']\n",
            " [2017 18.64 8700 'Petrol' 'Dealer' 'Manual']\n",
            " [2013 1.47 33000 'Petrol' 'Individual' 'Manual']]\n"
          ],
          "name": "stdout"
        }
      ]
    },
    {
      "cell_type": "markdown",
      "metadata": {
        "id": "9KSaNtdP4D-_"
      },
      "source": [
        "## Categorical Encoding "
      ]
    },
    {
      "cell_type": "code",
      "metadata": {
        "id": "yAVj0yIM4Nuf"
      },
      "source": [
        "from sklearn.compose import ColumnTransformer\n",
        "from sklearn.preprocessing import OneHotEncoder\n",
        "ct = ColumnTransformer(transformers=[('encoder',OneHotEncoder(),[3,4,5])],remainder='passthrough')\n",
        "X = np.array(ct.fit_transform(X))"
      ],
      "execution_count": null,
      "outputs": []
    },
    {
      "cell_type": "markdown",
      "metadata": {
        "id": "k6Tq4e8W7bfw"
      },
      "source": [
        "## Splitting Dataset"
      ]
    },
    {
      "cell_type": "code",
      "metadata": {
        "id": "dVjup1c97fSY"
      },
      "source": [
        "from sklearn.model_selection import train_test_split \n",
        "X_train,X_test,y_train,y_test = train_test_split(X,y,test_size=0.2,random_state=0)"
      ],
      "execution_count": null,
      "outputs": []
    },
    {
      "cell_type": "markdown",
      "metadata": {
        "id": "340Z_CiTGGEZ"
      },
      "source": [
        "## Training Model"
      ]
    },
    {
      "cell_type": "code",
      "metadata": {
        "id": "grojcneCGJdK",
        "colab": {
          "base_uri": "https://localhost:8080/",
          "height": 34
        },
        "outputId": "5cddd3a8-113b-40c2-c5f8-f05ef399c41b"
      },
      "source": [
        "from sklearn.linear_model import LinearRegression\n",
        "regressor = LinearRegression()\n",
        "regressor.fit(X_train,y_train)"
      ],
      "execution_count": null,
      "outputs": [
        {
          "output_type": "execute_result",
          "data": {
            "text/plain": [
              "LinearRegression(copy_X=True, fit_intercept=True, n_jobs=None, normalize=False)"
            ]
          },
          "metadata": {
            "tags": []
          },
          "execution_count": 15
        }
      ]
    },
    {
      "cell_type": "markdown",
      "metadata": {
        "id": "-bjw7fUrGqlF"
      },
      "source": [
        "## Predicting the Result"
      ]
    },
    {
      "cell_type": "code",
      "metadata": {
        "id": "ucb2jzHJG1hb",
        "colab": {
          "base_uri": "https://localhost:8080/",
          "height": 782
        },
        "outputId": "0ba8fb25-3930-421d-efcd-5c1678eb8c2d"
      },
      "source": [
        "y_pred = regressor.predict(X_test)\n",
        "np.set_printoptions(precision=2)\n",
        "print(np.concatenate((y_pred.reshape(len(y_pred),1),y_test.reshape(len(y_test),1)),1))"
      ],
      "execution_count": null,
      "outputs": [
        {
          "output_type": "stream",
          "text": [
            "[[ 4.7   3.25]\n",
            " [ 9.05  8.65]\n",
            " [ 3.94  3.95]\n",
            " [ 1.67  2.55]\n",
            " [ 2.58  3.25]\n",
            " [ 3.46  2.9 ]\n",
            " [16.88 14.9 ]\n",
            " [11.13  4.  ]\n",
            " [ 1.93  1.1 ]\n",
            " [ 3.06  4.  ]\n",
            " [ 1.47  1.1 ]\n",
            " [ 3.05  3.1 ]\n",
            " [ 3.32  4.15]\n",
            " [ 5.18  4.5 ]\n",
            " [ 9.52 11.5 ]\n",
            " [ 1.17  0.48]\n",
            " [ 9.1   9.7 ]\n",
            " [ 0.88  1.25]\n",
            " [ 5.22  4.8 ]\n",
            " [ 4.83  4.95]\n",
            " [ 8.02  7.5 ]\n",
            " [23.86 33.  ]\n",
            " [ 7.35  5.9 ]\n",
            " [ 5.04  4.  ]\n",
            " [ 8.72  8.99]\n",
            " [16.91 20.75]\n",
            " [ 6.21  6.  ]\n",
            " [ 1.64  1.15]\n",
            " [ 2.39  2.7 ]\n",
            " [ 0.2   0.45]\n",
            " [ 6.47  5.95]\n",
            " [ 2.04  1.2 ]\n",
            " [ 2.16  0.65]\n",
            " [ 5.14  5.5 ]\n",
            " [ 6.38  6.25]\n",
            " [ 4.88  5.25]\n",
            " [ 4.69  4.4 ]\n",
            " [ 6.16  5.65]\n",
            " [19.26 23.  ]\n",
            " [ 6.27  6.6 ]\n",
            " [ 8.79  3.8 ]\n",
            " [ 4.58  5.25]\n",
            " [ 2.55  3.1 ]\n",
            " [ 2.67  2.  ]\n",
            " [ 6.44  4.5 ]]\n"
          ],
          "name": "stdout"
        }
      ]
    }
  ]
}